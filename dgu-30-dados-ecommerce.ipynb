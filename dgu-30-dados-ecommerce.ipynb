{
 "cells": [
  {
   "cell_type": "markdown",
   "id": "fe5d580b",
   "metadata": {},
   "source": [
    "# Data Glow Up #30 - Análise de Churn Dados de E-commerce\n",
    "\n",
    "\n",
    "Base de dados traz 5 meses consecutivos, foi escolhida a análise de Churn para avalidar a retenção desses clientes para o desafio proposto. \n",
    "\n",
    "**O que é a taxa de Churn?**\n",
    "\n",
    "Churn é um termo utilizado para descrever a taxa de perda de clientes ou usuários de um serviço ou produto ao longo de um determinado período de tempo. O churn pode ser expresso como uma porcentagem do total de clientes perdidos em relação ao número inicial de clientes ativos. Reduzir o churn é uma prioridade para muitas empresas, pois a retenção de clientes é geralmente mais rentável do que a aquisição de novos clientes.\n",
    "\n",
    "A média de tempo ideal para analisar o churn de um ecommerce de cosméticos pode variar dependendo de diversos fatores, incluindo o ciclo de compra típico dos clientes, a frequência de compra dos produtos, e a sazonalidade do mercado de cosméticos. No entanto, muitas empresas costumam analisar o churn em intervalos mensais, trimestrais ou semestrais para obter insights relevantes sobre a retenção de clientes.\n",
    "\n",
    "**Período de referência da análise**\n",
    "\n",
    "Para um ecommerce de cosméticos, um período mensal pode ser uma escolha acertiva pois muitos clientes podem fazer compras regularmente ou experimentar produtos novos em intervalos mensais. Isso permite uma análise mais granular e a identificação de padrões de comportamento dos clientes ao longo do tempo."
   ]
  },
  {
   "cell_type": "code",
   "execution_count": 1,
   "id": "3ce0ca26",
   "metadata": {},
   "outputs": [],
   "source": [
    "#importanto as bibliotecas\n",
    "import pandas as pd\n",
    "import pandas as pd\n",
    "import numpy as np\n",
    "import seaborn as sns\n",
    "import matplotlib.pyplot as plt"
   ]
  },
  {
   "cell_type": "code",
   "execution_count": 2,
   "id": "e13bb9a9",
   "metadata": {},
   "outputs": [],
   "source": [
    "# Carregando o arquivo CSV em um DataFrame do Pandas\n",
    "\n",
    "df_oct2k19 = pd.read_csv('2019-Oct.csv')\n",
    "df_nov2k19 = pd.read_csv('2019-Nov.csv')\n",
    "df_dec2k19 = pd.read_csv('2019-Dec.csv')\n",
    "df_jan2k20 = pd.read_csv('2020-Jan.csv')\n",
    "df_feb2k20 = pd.read_csv('2020-Feb.csv')"
   ]
  },
  {
   "cell_type": "code",
   "execution_count": 3,
   "id": "b1cfe67f",
   "metadata": {},
   "outputs": [
    {
     "name": "stdout",
     "output_type": "stream",
     "text": [
      "<class 'pandas.core.frame.DataFrame'>\n",
      "RangeIndex: 4102283 entries, 0 to 4102282\n",
      "Data columns (total 9 columns):\n",
      " #   Column         Dtype  \n",
      "---  ------         -----  \n",
      " 0   event_time     object \n",
      " 1   event_type     object \n",
      " 2   product_id     int64  \n",
      " 3   category_id    int64  \n",
      " 4   category_code  object \n",
      " 5   brand          object \n",
      " 6   price          float64\n",
      " 7   user_id        int64  \n",
      " 8   user_session   object \n",
      "dtypes: float64(1), int64(3), object(5)\n",
      "memory usage: 281.7+ MB\n"
     ]
    }
   ],
   "source": [
    "# Demostrando as infos do primeiro df para comparar as colunas\n",
    "\n",
    "df_oct2k19.info()"
   ]
  },
  {
   "cell_type": "code",
   "execution_count": 4,
   "id": "194174cc",
   "metadata": {},
   "outputs": [
    {
     "name": "stdout",
     "output_type": "stream",
     "text": [
      "<class 'pandas.core.frame.DataFrame'>\n",
      "RangeIndex: 4635837 entries, 0 to 4635836\n",
      "Data columns (total 9 columns):\n",
      " #   Column         Dtype  \n",
      "---  ------         -----  \n",
      " 0   event_time     object \n",
      " 1   event_type     object \n",
      " 2   product_id     int64  \n",
      " 3   category_id    int64  \n",
      " 4   category_code  object \n",
      " 5   brand          object \n",
      " 6   price          float64\n",
      " 7   user_id        int64  \n",
      " 8   user_session   object \n",
      "dtypes: float64(1), int64(3), object(5)\n",
      "memory usage: 318.3+ MB\n"
     ]
    }
   ],
   "source": [
    "# Demonstrando as infos do segundo df para comparar as colunas\n",
    "\n",
    "df_nov2k19.info()"
   ]
  },
  {
   "cell_type": "code",
   "execution_count": 5,
   "id": "2ed9d051",
   "metadata": {},
   "outputs": [
    {
     "name": "stdout",
     "output_type": "stream",
     "text": [
      "<class 'pandas.core.frame.DataFrame'>\n",
      "RangeIndex: 3533286 entries, 0 to 3533285\n",
      "Data columns (total 9 columns):\n",
      " #   Column         Dtype  \n",
      "---  ------         -----  \n",
      " 0   event_time     object \n",
      " 1   event_type     object \n",
      " 2   product_id     int64  \n",
      " 3   category_id    int64  \n",
      " 4   category_code  object \n",
      " 5   brand          object \n",
      " 6   price          float64\n",
      " 7   user_id        int64  \n",
      " 8   user_session   object \n",
      "dtypes: float64(1), int64(3), object(5)\n",
      "memory usage: 242.6+ MB\n"
     ]
    }
   ],
   "source": [
    "# Demonstrando as infos do terceiro df para comparar as colunas\n",
    "\n",
    "df_dec2k19.info()"
   ]
  },
  {
   "cell_type": "code",
   "execution_count": 6,
   "id": "dd217aab",
   "metadata": {},
   "outputs": [
    {
     "name": "stdout",
     "output_type": "stream",
     "text": [
      "<class 'pandas.core.frame.DataFrame'>\n",
      "RangeIndex: 4264752 entries, 0 to 4264751\n",
      "Data columns (total 9 columns):\n",
      " #   Column         Dtype  \n",
      "---  ------         -----  \n",
      " 0   event_time     object \n",
      " 1   event_type     object \n",
      " 2   product_id     int64  \n",
      " 3   category_id    int64  \n",
      " 4   category_code  object \n",
      " 5   brand          object \n",
      " 6   price          float64\n",
      " 7   user_id        int64  \n",
      " 8   user_session   object \n",
      "dtypes: float64(1), int64(3), object(5)\n",
      "memory usage: 292.8+ MB\n"
     ]
    }
   ],
   "source": [
    "# Demonstrando as infos do quarto df para comparar as colunas\n",
    "\n",
    "df_jan2k20.info()"
   ]
  },
  {
   "cell_type": "code",
   "execution_count": 7,
   "id": "7c3dd65b",
   "metadata": {},
   "outputs": [
    {
     "name": "stdout",
     "output_type": "stream",
     "text": [
      "<class 'pandas.core.frame.DataFrame'>\n",
      "RangeIndex: 4156682 entries, 0 to 4156681\n",
      "Data columns (total 9 columns):\n",
      " #   Column         Dtype  \n",
      "---  ------         -----  \n",
      " 0   event_time     object \n",
      " 1   event_type     object \n",
      " 2   product_id     int64  \n",
      " 3   category_id    int64  \n",
      " 4   category_code  object \n",
      " 5   brand          object \n",
      " 6   price          float64\n",
      " 7   user_id        int64  \n",
      " 8   user_session   object \n",
      "dtypes: float64(1), int64(3), object(5)\n",
      "memory usage: 285.4+ MB\n"
     ]
    }
   ],
   "source": [
    "# Demonstrandoas infos do quinto df para comparar as colunas\n",
    "\n",
    "df_feb2k20.info()"
   ]
  },
  {
   "cell_type": "markdown",
   "id": "dd1352c4",
   "metadata": {},
   "source": [
    "**União de linhas**\n",
    "\n",
    "Após verificar que as tabelas possuem as mesmas colunas, com os mesmos títulos e tipo de dado, podemos fazer a união de tabelas no formato de sobreposição de linhas. Isso, para que possamos analisar os dados como uma tabela somente. Como temos a coluna de [event_time], é possível observar o comportamento do [user_id] ao longo do tempo, entendendo se ele parou de comprar ou não."
   ]
  },
  {
   "cell_type": "code",
   "execution_count": 8,
   "id": "2f180eb1",
   "metadata": {},
   "outputs": [],
   "source": [
    "# Lista de todos os DataFrames\n",
    "dfs = [df_oct2k19, df_nov2k19, df_dec2k19, df_jan2k20, df_feb2k20]"
   ]
  },
  {
   "cell_type": "code",
   "execution_count": 9,
   "id": "3035aba6",
   "metadata": {},
   "outputs": [
    {
     "name": "stdout",
     "output_type": "stream",
     "text": [
      "<class 'pandas.core.frame.DataFrame'>\n",
      "RangeIndex: 20692840 entries, 0 to 20692839\n",
      "Data columns (total 9 columns):\n",
      " #   Column         Dtype  \n",
      "---  ------         -----  \n",
      " 0   event_time     object \n",
      " 1   event_type     object \n",
      " 2   product_id     int64  \n",
      " 3   category_id    int64  \n",
      " 4   category_code  object \n",
      " 5   brand          object \n",
      " 6   price          float64\n",
      " 7   user_id        int64  \n",
      " 8   user_session   object \n",
      "dtypes: float64(1), int64(3), object(5)\n",
      "memory usage: 1.4+ GB\n"
     ]
    }
   ],
   "source": [
    "# Concatenar todos os DataFrames em um só\n",
    "df_unificado = pd.concat(dfs, ignore_index=True)\n",
    "\n",
    "df_unificado.info()"
   ]
  },
  {
   "cell_type": "code",
   "execution_count": 10,
   "id": "5bdd70f7",
   "metadata": {},
   "outputs": [],
   "source": [
    "#Convertendo a coluna ['event_time'] para formato datetime\n",
    "\n",
    "df_unificado['event_time'] = pd.to_datetime(df_unificado['event_time'], errors='coerce', utc=True)"
   ]
  },
  {
   "cell_type": "code",
   "execution_count": 11,
   "id": "64b1ab1a",
   "metadata": {},
   "outputs": [
    {
     "data": {
      "text/html": [
       "<div>\n",
       "<style scoped>\n",
       "    .dataframe tbody tr th:only-of-type {\n",
       "        vertical-align: middle;\n",
       "    }\n",
       "\n",
       "    .dataframe tbody tr th {\n",
       "        vertical-align: top;\n",
       "    }\n",
       "\n",
       "    .dataframe thead th {\n",
       "        text-align: right;\n",
       "    }\n",
       "</style>\n",
       "<table border=\"1\" class=\"dataframe\">\n",
       "  <thead>\n",
       "    <tr style=\"text-align: right;\">\n",
       "      <th></th>\n",
       "      <th>event_time</th>\n",
       "      <th>event_type</th>\n",
       "      <th>product_id</th>\n",
       "      <th>category_id</th>\n",
       "      <th>category_code</th>\n",
       "      <th>brand</th>\n",
       "      <th>price</th>\n",
       "      <th>user_id</th>\n",
       "      <th>user_session</th>\n",
       "    </tr>\n",
       "  </thead>\n",
       "  <tbody>\n",
       "    <tr>\n",
       "      <th>0</th>\n",
       "      <td>2019-10-01 00:00:00+00:00</td>\n",
       "      <td>cart</td>\n",
       "      <td>5773203</td>\n",
       "      <td>1487580005134238553</td>\n",
       "      <td>NaN</td>\n",
       "      <td>runail</td>\n",
       "      <td>2.62</td>\n",
       "      <td>463240011</td>\n",
       "      <td>26dd6e6e-4dac-4778-8d2c-92e149dab885</td>\n",
       "    </tr>\n",
       "    <tr>\n",
       "      <th>1</th>\n",
       "      <td>2019-10-01 00:00:03+00:00</td>\n",
       "      <td>cart</td>\n",
       "      <td>5773353</td>\n",
       "      <td>1487580005134238553</td>\n",
       "      <td>NaN</td>\n",
       "      <td>runail</td>\n",
       "      <td>2.62</td>\n",
       "      <td>463240011</td>\n",
       "      <td>26dd6e6e-4dac-4778-8d2c-92e149dab885</td>\n",
       "    </tr>\n",
       "    <tr>\n",
       "      <th>2</th>\n",
       "      <td>2019-10-01 00:00:07+00:00</td>\n",
       "      <td>cart</td>\n",
       "      <td>5881589</td>\n",
       "      <td>2151191071051219817</td>\n",
       "      <td>NaN</td>\n",
       "      <td>lovely</td>\n",
       "      <td>13.48</td>\n",
       "      <td>429681830</td>\n",
       "      <td>49e8d843-adf3-428b-a2c3-fe8bc6a307c9</td>\n",
       "    </tr>\n",
       "    <tr>\n",
       "      <th>3</th>\n",
       "      <td>2019-10-01 00:00:07+00:00</td>\n",
       "      <td>cart</td>\n",
       "      <td>5723490</td>\n",
       "      <td>1487580005134238553</td>\n",
       "      <td>NaN</td>\n",
       "      <td>runail</td>\n",
       "      <td>2.62</td>\n",
       "      <td>463240011</td>\n",
       "      <td>26dd6e6e-4dac-4778-8d2c-92e149dab885</td>\n",
       "    </tr>\n",
       "    <tr>\n",
       "      <th>4</th>\n",
       "      <td>2019-10-01 00:00:15+00:00</td>\n",
       "      <td>cart</td>\n",
       "      <td>5881449</td>\n",
       "      <td>1487580013522845895</td>\n",
       "      <td>NaN</td>\n",
       "      <td>lovely</td>\n",
       "      <td>0.56</td>\n",
       "      <td>429681830</td>\n",
       "      <td>49e8d843-adf3-428b-a2c3-fe8bc6a307c9</td>\n",
       "    </tr>\n",
       "  </tbody>\n",
       "</table>\n",
       "</div>"
      ],
      "text/plain": [
       "                 event_time event_type  product_id          category_id  \\\n",
       "0 2019-10-01 00:00:00+00:00       cart     5773203  1487580005134238553   \n",
       "1 2019-10-01 00:00:03+00:00       cart     5773353  1487580005134238553   \n",
       "2 2019-10-01 00:00:07+00:00       cart     5881589  2151191071051219817   \n",
       "3 2019-10-01 00:00:07+00:00       cart     5723490  1487580005134238553   \n",
       "4 2019-10-01 00:00:15+00:00       cart     5881449  1487580013522845895   \n",
       "\n",
       "  category_code   brand  price    user_id  \\\n",
       "0           NaN  runail   2.62  463240011   \n",
       "1           NaN  runail   2.62  463240011   \n",
       "2           NaN  lovely  13.48  429681830   \n",
       "3           NaN  runail   2.62  463240011   \n",
       "4           NaN  lovely   0.56  429681830   \n",
       "\n",
       "                           user_session  \n",
       "0  26dd6e6e-4dac-4778-8d2c-92e149dab885  \n",
       "1  26dd6e6e-4dac-4778-8d2c-92e149dab885  \n",
       "2  49e8d843-adf3-428b-a2c3-fe8bc6a307c9  \n",
       "3  26dd6e6e-4dac-4778-8d2c-92e149dab885  \n",
       "4  49e8d843-adf3-428b-a2c3-fe8bc6a307c9  "
      ]
     },
     "execution_count": 11,
     "metadata": {},
     "output_type": "execute_result"
    }
   ],
   "source": [
    "# Trazendo as primeiras 5 linhas do df_unificado \n",
    "\n",
    "df_unificado.head(5)"
   ]
  },
  {
   "cell_type": "code",
   "execution_count": 12,
   "id": "a3b576a0",
   "metadata": {},
   "outputs": [
    {
     "data": {
      "text/html": [
       "<div>\n",
       "<style scoped>\n",
       "    .dataframe tbody tr th:only-of-type {\n",
       "        vertical-align: middle;\n",
       "    }\n",
       "\n",
       "    .dataframe tbody tr th {\n",
       "        vertical-align: top;\n",
       "    }\n",
       "\n",
       "    .dataframe thead th {\n",
       "        text-align: right;\n",
       "    }\n",
       "</style>\n",
       "<table border=\"1\" class=\"dataframe\">\n",
       "  <thead>\n",
       "    <tr style=\"text-align: right;\">\n",
       "      <th></th>\n",
       "      <th>event_time</th>\n",
       "      <th>event_type</th>\n",
       "      <th>product_id</th>\n",
       "      <th>category_id</th>\n",
       "      <th>category_code</th>\n",
       "      <th>brand</th>\n",
       "      <th>price</th>\n",
       "      <th>user_id</th>\n",
       "      <th>user_session</th>\n",
       "    </tr>\n",
       "  </thead>\n",
       "  <tbody>\n",
       "    <tr>\n",
       "      <th>20692835</th>\n",
       "      <td>2020-02-29 23:59:32+00:00</td>\n",
       "      <td>view</td>\n",
       "      <td>5885416</td>\n",
       "      <td>1487580005092295511</td>\n",
       "      <td>NaN</td>\n",
       "      <td>grattol</td>\n",
       "      <td>6.27</td>\n",
       "      <td>622082947</td>\n",
       "      <td>fb29909b-6ef5-4662-b4ee-288e73e5dc10</td>\n",
       "    </tr>\n",
       "    <tr>\n",
       "      <th>20692836</th>\n",
       "      <td>2020-02-29 23:59:39+00:00</td>\n",
       "      <td>cart</td>\n",
       "      <td>5550686</td>\n",
       "      <td>1487580008145748965</td>\n",
       "      <td>NaN</td>\n",
       "      <td>NaN</td>\n",
       "      <td>1.11</td>\n",
       "      <td>459705611</td>\n",
       "      <td>05d2add3-01f7-47ee-8364-27341673227f</td>\n",
       "    </tr>\n",
       "    <tr>\n",
       "      <th>20692837</th>\n",
       "      <td>2020-02-29 23:59:45+00:00</td>\n",
       "      <td>view</td>\n",
       "      <td>5850628</td>\n",
       "      <td>1602943681873052386</td>\n",
       "      <td>NaN</td>\n",
       "      <td>grattol</td>\n",
       "      <td>5.24</td>\n",
       "      <td>622090043</td>\n",
       "      <td>ab7d349f-db5d-4790-8ab1-31e5c894459d</td>\n",
       "    </tr>\n",
       "    <tr>\n",
       "      <th>20692838</th>\n",
       "      <td>2020-02-29 23:59:54+00:00</td>\n",
       "      <td>view</td>\n",
       "      <td>5716351</td>\n",
       "      <td>1487580010872045658</td>\n",
       "      <td>NaN</td>\n",
       "      <td>irisk</td>\n",
       "      <td>0.79</td>\n",
       "      <td>619841242</td>\n",
       "      <td>18af673b-7fb9-4202-a66d-5c855bc0fd2d</td>\n",
       "    </tr>\n",
       "    <tr>\n",
       "      <th>20692839</th>\n",
       "      <td>2020-02-29 23:59:59+00:00</td>\n",
       "      <td>view</td>\n",
       "      <td>5927709</td>\n",
       "      <td>1487580013950664926</td>\n",
       "      <td>NaN</td>\n",
       "      <td>de.lux</td>\n",
       "      <td>3.17</td>\n",
       "      <td>621669991</td>\n",
       "      <td>daa3c677-5360-4327-847e-d29658716b99</td>\n",
       "    </tr>\n",
       "  </tbody>\n",
       "</table>\n",
       "</div>"
      ],
      "text/plain": [
       "                        event_time event_type  product_id  \\\n",
       "20692835 2020-02-29 23:59:32+00:00       view     5885416   \n",
       "20692836 2020-02-29 23:59:39+00:00       cart     5550686   \n",
       "20692837 2020-02-29 23:59:45+00:00       view     5850628   \n",
       "20692838 2020-02-29 23:59:54+00:00       view     5716351   \n",
       "20692839 2020-02-29 23:59:59+00:00       view     5927709   \n",
       "\n",
       "                  category_id category_code    brand  price    user_id  \\\n",
       "20692835  1487580005092295511           NaN  grattol   6.27  622082947   \n",
       "20692836  1487580008145748965           NaN      NaN   1.11  459705611   \n",
       "20692837  1602943681873052386           NaN  grattol   5.24  622090043   \n",
       "20692838  1487580010872045658           NaN    irisk   0.79  619841242   \n",
       "20692839  1487580013950664926           NaN   de.lux   3.17  621669991   \n",
       "\n",
       "                                  user_session  \n",
       "20692835  fb29909b-6ef5-4662-b4ee-288e73e5dc10  \n",
       "20692836  05d2add3-01f7-47ee-8364-27341673227f  \n",
       "20692837  ab7d349f-db5d-4790-8ab1-31e5c894459d  \n",
       "20692838  18af673b-7fb9-4202-a66d-5c855bc0fd2d  \n",
       "20692839  daa3c677-5360-4327-847e-d29658716b99  "
      ]
     },
     "execution_count": 12,
     "metadata": {},
     "output_type": "execute_result"
    }
   ],
   "source": [
    "# Trazendo as últimas 5 linhas do df_unificado \n",
    "\n",
    "df_unificado.tail(5)"
   ]
  },
  {
   "cell_type": "markdown",
   "id": "ad770abb",
   "metadata": {},
   "source": [
    "**Critério para a análise ser e elegível a análise do churn**\n",
    "\n",
    "Para que possamos compreender o comportamento do usuário, é necessário ter uma recorrência de compra. Então precisamos analisar se o [user_id] se repete em mais de uma transação, isso significa que ele está retornando para a compra. Primeiro, precisamos analisar quantos usuários estamos analisando, para depois entender a sua frequência."
   ]
  },
  {
   "cell_type": "code",
   "execution_count": 13,
   "id": "f07daeb7",
   "metadata": {},
   "outputs": [
    {
     "name": "stdout",
     "output_type": "stream",
     "text": [
      "1639358\n"
     ]
    }
   ],
   "source": [
    "# Contagem distinta de usuários \n",
    "\n",
    "contagem_distinta = df_unificado['user_id'].nunique()\n",
    "print(contagem_distinta)"
   ]
  },
  {
   "cell_type": "code",
   "execution_count": 14,
   "id": "866505a5",
   "metadata": {},
   "outputs": [
    {
     "name": "stdout",
     "output_type": "stream",
     "text": [
      "Contagem usuários:\n",
      " user_id\n",
      "527021202    26752\n",
      "557616099     9903\n",
      "583884978     9420\n",
      "419558969     8283\n",
      "476450673     8122\n",
      "             ...  \n",
      "572081766        1\n",
      "596133477        1\n",
      "572081604        1\n",
      "572080990        1\n",
      "577541482        1\n",
      "Name: count, Length: 1639358, dtype: int64\n"
     ]
    }
   ],
   "source": [
    "#Contagem de frequência que o user_id aparece, agrupado por user_id\n",
    "\n",
    "contagem_users = df_unificado['user_id'].value_counts()\n",
    "print(\"Contagem usuários:\\n\",contagem_users)"
   ]
  },
  {
   "cell_type": "markdown",
   "id": "0f732915",
   "metadata": {},
   "source": [
    "**Algumas análises utilizando o Matplotlib**\n",
    "\n",
    "Agora vamos realizar algumas análises utlização a bilbioteca MatPlotlib para poder identificar alguns comportamentos, como a quantidade de clientes ativos por mês, quantidade de clientes por [brand] e por [event_type]"
   ]
  },
  {
   "cell_type": "code",
   "execution_count": 15,
   "id": "e6659845",
   "metadata": {
    "scrolled": false
   },
   "outputs": [
    {
     "name": "stderr",
     "output_type": "stream",
     "text": [
      "C:\\Users\\Computador\\AppData\\Local\\Temp\\ipykernel_14824\\1370763869.py:4: UserWarning: Converting to PeriodArray/Index representation will drop timezone information.\n",
      "  df_unificado['month'] = df_unificado['event_time'].dt.to_period('M')\n"
     ]
    },
    {
     "data": {
      "image/png": "[encoded data removed]",
      "text/plain": [
       "<Figure size 1000x600 with 1 Axes>"
      ]
     },
     "metadata": {},
     "output_type": "display_data"
    }
   ],
   "source": [
    "#criando a análise de quantidade de clientes ativos por mês\n",
    "\n",
    "# Extrair o mês do 'event_time'\n",
    "df_unificado['month'] = df_unificado['event_time'].dt.to_period('M')\n",
    "\n",
    "# Contar o número de usuários únicos por mês\n",
    "monthly_users = df_unificado.groupby('month')['user_id'].nunique()\n",
    "\n",
    "# Criar o gráfico\n",
    "plt.figure(figsize=(10, 6))\n",
    "monthly_users.plot(kind='line', marker='o', color='b')\n",
    "\n",
    "# Configurar título e rótulos dos eixos\n",
    "plt.title('Quantidade de clientes ativos durante o período')\n",
    "plt.xlabel('Mês')\n",
    "plt.ylabel('Quantidade de Clientes Ativos')\n",
    "\n",
    "# Mostrar o gráfico\n",
    "plt.grid(True)\n",
    "plt.xticks(rotation=45)\n",
    "plt.tight_layout()\n",
    "plt.show()"
   ]
  },
  {
   "cell_type": "markdown",
   "id": "7f8c567e",
   "metadata": {},
   "source": [
    "**Analisando os Tipos de Evento**\n",
    "\n",
    "A coluna [event_type] trás os eventos ocorridos na loja. Por eventos, ele considera as interações dos usuários com a loja. A melhor forma de visualização é entendendo as ações como um funil, pois o mesmo usuário que visualizou uma compra, pode ter realizado o pagamento. Entretanto,escolhi utilizar o gráfico de barras horizontal, o que se assemelha a uma visão de funil."
   ]
  },
  {
   "cell_type": "code",
   "execution_count": 16,
   "id": "b7ce5198",
   "metadata": {},
   "outputs": [
    {
     "data": {
      "image/png": "[encoded data removed]",
      "text/plain": [
       "<Figure size 1000x600 with 1 Axes>"
      ]
     },
     "metadata": {},
     "output_type": "display_data"
    }
   ],
   "source": [
    "#criando a análise de clientes ativos por event_type(Tipos de evento)\n",
    "\n",
    "# Contar o número de usuários únicos por tipo de evento\n",
    "unique_users_by_event_type = df_unificado.groupby('event_type')['user_id'].nunique()\n",
    "\n",
    "# Ordenar os valores em ordem decrescente\n",
    "unique_users_by_event_type_sorted = unique_users_by_event_type.sort_values(ascending=True)\n",
    "\n",
    "# Criar o gráfico de barras horizontal\n",
    "plt.figure(figsize=(10, 6))\n",
    "plt.barh(unique_users_by_event_type_sorted.index, unique_users_by_event_type_sorted.values, color='skyblue')\n",
    "\n",
    "# Configurar título e rótulos dos eixos\n",
    "plt.title('Quantidade de usuários únicos por Tipo de Evento')\n",
    "plt.xlabel('Quantidade de Usuários Únicos')\n",
    "plt.ylabel('Tipo de Evento')\n",
    "\n",
    "# Mostrar o gráfico\n",
    "plt.grid(True, axis='x')\n",
    "plt.tight_layout()\n",
    "plt.show()"
   ]
  },
  {
   "cell_type": "markdown",
   "id": "6f4562cb",
   "metadata": {},
   "source": [
    "**Entendendo o campo remove_from_cart**\n",
    "\n",
    "remove_from_cart é uma ação que geralmente ocorre em sistemas de comércio eletrônico, onde um usuário remove um item específico do seu carrinho de compras antes de concluir a compra. \n",
    "\n",
    "Por exemplo, se um cliente adicionou um produto ao carrinho de compras, mas depois decidiu não comprá-lo e removeu-o do carrinho, isso seria registrado como um evento de \"remove from cart\". Esse tipo de evento é útil para entender o comportamento dos usuários e pode ser usado para otimizar a experiência de compra online.\n",
    "\n",
    "Podemos considerar o status de remove_from_cart como uma ação pontual de churn, ou seja, o cliente desistiu da compra. Aplicando a regra se ele voltou a comprar naquele mesmo mês, podemos considerar que o churn não ocorreu.\n"
   ]
  },
  {
   "cell_type": "code",
   "execution_count": 17,
   "id": "8b11fd4c",
   "metadata": {
    "scrolled": false
   },
   "outputs": [
    {
     "data": {
      "image/png": "[encoded data removed]",
      "text/plain": [
       "<Figure size 1000x600 with 1 Axes>"
      ]
     },
     "metadata": {},
     "output_type": "display_data"
    }
   ],
   "source": [
    "#criando a análise de clientes ativos por brand(Top 10 mais requisitadas na loja)\n",
    "\n",
    "# Fazer um groupby pela marca e contar o número de usuários únicos\n",
    "unique_users_by_brand = df_unificado.groupby('brand')['user_id'].nunique()\n",
    "\n",
    "# Ordenar os valores em ordem decrescente e pegar as 10 primeiras marcas\n",
    "top_10_brands = unique_users_by_brand.sort_values(ascending=False).head(10)\n",
    "\n",
    "# Criar o gráfico de barras vertical\n",
    "plt.figure(figsize=(10, 6))\n",
    "top_10_brands.plot(kind='bar', color='skyblue')\n",
    "\n",
    "# Configurar título e rótulos dos eixos\n",
    "plt.title('Top 10 Marcas mais compradas')\n",
    "plt.xlabel('Marca')\n",
    "plt.ylabel('Quantidade de Usuários Únicos')\n",
    "\n",
    "# Mostrar o gráfico\n",
    "plt.grid(True, axis='y')\n",
    "plt.xticks(rotation=45)\n",
    "plt.tight_layout()\n",
    "plt.show()"
   ]
  },
  {
   "cell_type": "markdown",
   "id": "8ac88e50",
   "metadata": {},
   "source": [
    "**Exportação para o Power BI para criação da visualização de dados**\n",
    "\n",
    "Agora vamos exportar os dados para poder visualizar em uma única label todas as informações acima. Ao exportar para o Power BI, podemos ver a interação entre as análises acima, e entender a correlação dos dados"
   ]
  },
  {
   "cell_type": "code",
   "execution_count": 18,
   "id": "057620db",
   "metadata": {},
   "outputs": [],
   "source": [
    "#Salvar o df concatenado para um arquivo CSV \n",
    "df_unificado.to_csv('df_unificado.csv', index=False)"
   ]
  },
  {
   "cell_type": "code",
   "execution_count": null,
   "id": "75420d03",
   "metadata": {},
   "outputs": [],
   "source": []
  }
 ],
 "metadata": {
  "kernelspec": {
   "display_name": "Python 3 (ipykernel)",
   "language": "python",
   "name": "python3"
  },
  "language_info": {
   "codemirror_mode": {
    "name": "ipython",
    "version": 3
   },
   "file_extension": ".py",
   "mimetype": "text/x-python",
   "name": "python",
   "nbconvert_exporter": "python",
   "pygments_lexer": "ipython3",
   "version": "3.11.5"
  }
 },
 "nbformat": 4,
 "nbformat_minor": 5
}
